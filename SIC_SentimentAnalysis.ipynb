{
 "cells": [
  {
   "cell_type": "code",
   "execution_count": 1,
   "id": "bd3be71c-a1fa-4a86-b58d-1a17df18de0f",
   "metadata": {},
   "outputs": [],
   "source": [
    "import warnings\n",
    "warnings.filterwarnings('ignore')\n",
    "\n",
    "from datasets import load_dataset\n",
    "\n",
    "import pandas as pd\n",
    "import numpy as np\n",
    "import matplotlib.pyplot as plt\n",
    "\n",
    "import tensorflow as tf\n",
    "from tensorflow.keras.utils import to_categorical\n",
    "from tensorflow.keras.preprocessing.text import Tokenizer\n",
    "from tensorflow.keras.preprocessing.sequence import pad_sequences\n",
    "from tensorflow.keras.layers import (Embedding, Dense, Dropout, Bidirectional, LSTM, GRU, Input,LayerNormalization, \n",
    "                                        GlobalMaxPooling1D, Conv1D, MaxPooling1D, Concatenate)\n",
    "from tensorflow.keras.optimizers import Adam"
   ]
  },
  {
   "cell_type": "markdown",
   "id": "c92415ad-6451-4053-9ecd-ff8f0e5e8dd7",
   "metadata": {},
   "source": [
    "## 1. Load Dataset"
   ]
  },
  {
   "cell_type": "code",
   "execution_count": 2,
   "id": "18e4e3c7-0cfb-45a6-a898-6e4cd4b20dc0",
   "metadata": {},
   "outputs": [
    {
     "data": {
      "text/plain": [
       "DatasetDict({\n",
       "    train: Dataset({\n",
       "        features: ['sentence', 'sentiment', 'topic'],\n",
       "        num_rows: 11426\n",
       "    })\n",
       "    validation: Dataset({\n",
       "        features: ['sentence', 'sentiment', 'topic'],\n",
       "        num_rows: 1583\n",
       "    })\n",
       "    test: Dataset({\n",
       "        features: ['sentence', 'sentiment', 'topic'],\n",
       "        num_rows: 3166\n",
       "    })\n",
       "})"
      ]
     },
     "execution_count": 2,
     "metadata": {},
     "output_type": "execute_result"
    }
   ],
   "source": [
    "dataset = load_dataset('uit-nlp/vietnamese_students_feedback')\n",
    "dataset"
   ]
  },
  {
   "cell_type": "code",
   "execution_count": 3,
   "id": "a33fb380-ad76-49c1-bfcd-dfabea14474b",
   "metadata": {},
   "outputs": [
    {
     "name": "stdout",
     "output_type": "stream",
     "text": [
      "Train: (11426, 3)\n",
      "Val:  (1583, 3)\n",
      "Test:  (3166, 3)\n",
      "Sentiment data: (16175, 3)\n"
     ]
    },
    {
     "data": {
      "text/html": [
       "<div>\n",
       "<style scoped>\n",
       "    .dataframe tbody tr th:only-of-type {\n",
       "        vertical-align: middle;\n",
       "    }\n",
       "\n",
       "    .dataframe tbody tr th {\n",
       "        vertical-align: top;\n",
       "    }\n",
       "\n",
       "    .dataframe thead th {\n",
       "        text-align: right;\n",
       "    }\n",
       "</style>\n",
       "<table border=\"1\" class=\"dataframe\">\n",
       "  <thead>\n",
       "    <tr style=\"text-align: right;\">\n",
       "      <th></th>\n",
       "      <th>comment</th>\n",
       "      <th>label</th>\n",
       "      <th>topic</th>\n",
       "    </tr>\n",
       "  </thead>\n",
       "  <tbody>\n",
       "    <tr>\n",
       "      <th>0</th>\n",
       "      <td>thầy nên giảng bài nhanh hơn để sinh viên có t...</td>\n",
       "      <td>0</td>\n",
       "      <td>0</td>\n",
       "    </tr>\n",
       "    <tr>\n",
       "      <th>1</th>\n",
       "      <td>kỹ năng đọc của em còn chưa thể hiện được .</td>\n",
       "      <td>0</td>\n",
       "      <td>3</td>\n",
       "    </tr>\n",
       "    <tr>\n",
       "      <th>2</th>\n",
       "      <td>dạy quá thời gian quy định .</td>\n",
       "      <td>2</td>\n",
       "      <td>0</td>\n",
       "    </tr>\n",
       "    <tr>\n",
       "      <th>3</th>\n",
       "      <td>nhiệt tình , chia sẻ kinh nghiệm học tập .</td>\n",
       "      <td>2</td>\n",
       "      <td>0</td>\n",
       "    </tr>\n",
       "    <tr>\n",
       "      <th>4</th>\n",
       "      <td>hợp tác .</td>\n",
       "      <td>1</td>\n",
       "      <td>3</td>\n",
       "    </tr>\n",
       "  </tbody>\n",
       "</table>\n",
       "</div>"
      ],
      "text/plain": [
       "                                             comment  label  topic\n",
       "0  thầy nên giảng bài nhanh hơn để sinh viên có t...      0      0\n",
       "1        kỹ năng đọc của em còn chưa thể hiện được .      0      3\n",
       "2                       dạy quá thời gian quy định .      2      0\n",
       "3         nhiệt tình , chia sẻ kinh nghiệm học tập .      2      0\n",
       "4                                          hợp tác .      1      3"
      ]
     },
     "execution_count": 3,
     "metadata": {},
     "output_type": "execute_result"
    }
   ],
   "source": [
    "#Chuyển dataset thành dataframe\n",
    "train_df = dataset['train'].to_pandas()\n",
    "print('Train:', train_df.shape)\n",
    "val_df = dataset['validation'].to_pandas()\n",
    "print('Val: ', val_df.shape)\n",
    "test_df = dataset['test'].to_pandas()\n",
    "print('Test: ', test_df.shape)\n",
    "\n",
    "#Gộp các df lại thành 1 df tên sentiment_data\n",
    "sentiment_data = pd.concat([train_df, val_df, test_df], ignore_index = True)\n",
    "\n",
    "#Xáo trộn thứ tự các dòng dataframe tránh việc mô hình học theo thứ tự dữ liệu, dẫn đến hiện tượng overfitting(học thuộc)\n",
    "sentiment_data = sentiment_data.sample(frac = 1).reset_index(drop = True)\n",
    "print('Sentiment data:', sentiment_data.shape)\n",
    "\n",
    "#Đổi tên cột\n",
    "sentiment_data = sentiment_data.rename(columns={'sentence' : 'comment','sentiment' : 'label'})\n",
    "sentiment_data.head()"
   ]
  },
  {
   "cell_type": "markdown",
   "id": "0cf48510-18fa-4c88-abab-fa7203e6f75b",
   "metadata": {},
   "source": [
    "## 2. Data preprocessing"
   ]
  },
  {
   "cell_type": "markdown",
   "id": "82b1f909-5d4d-4dbd-9203-5fe083e0b020",
   "metadata": {},
   "source": [
    "### 2.1 Duplicated"
   ]
  },
  {
   "cell_type": "code",
   "execution_count": 4,
   "id": "1eaaf039-b554-4e38-851e-4fdeb4e9d138",
   "metadata": {},
   "outputs": [
    {
     "name": "stdout",
     "output_type": "stream",
     "text": [
      "Số dữ liệu bị lặp:  1\n",
      "Số dữ liệu bị lặp sau khi xóa:  0\n"
     ]
    },
    {
     "data": {
      "text/plain": [
       "(16174, 3)"
      ]
     },
     "execution_count": 4,
     "metadata": {},
     "output_type": "execute_result"
    }
   ],
   "source": [
    "# Đếm số hàng trùng lặp và xóa\n",
    "print('Số dữ liệu bị lặp: ', sentiment_data['comment'].duplicated().sum())\n",
    "sentiment_data = sentiment_data.drop_duplicates('comment')\n",
    "\n",
    "# Kiểm tra lại sau khi xóa\n",
    "print('Số dữ liệu bị lặp sau khi xóa: ', sentiment_data['comment'].duplicated().sum())\n",
    "\n",
    "sentiment_data = sentiment_data.reset_index(drop = True)\n",
    "sentiment_data.shape"
   ]
  },
  {
   "cell_type": "markdown",
   "id": "d06f0fbd-0011-4a3e-8fbc-feda94c42647",
   "metadata": {},
   "source": [
    "### 2.2 Missing"
   ]
  },
  {
   "cell_type": "code",
   "execution_count": 5,
   "id": "f7c3c0dc-f1f9-48a9-b297-1c7aceb99652",
   "metadata": {},
   "outputs": [
    {
     "name": "stdout",
     "output_type": "stream",
     "text": [
      "<class 'pandas.core.frame.DataFrame'>\n",
      "RangeIndex: 16174 entries, 0 to 16173\n",
      "Data columns (total 3 columns):\n",
      " #   Column   Non-Null Count  Dtype \n",
      "---  ------   --------------  ----- \n",
      " 0   comment  16174 non-null  object\n",
      " 1   label    16174 non-null  int64 \n",
      " 2   topic    16174 non-null  int64 \n",
      "dtypes: int64(2), object(1)\n",
      "memory usage: 379.2+ KB\n"
     ]
    }
   ],
   "source": [
    "# Kiểm tra giá trị missing\n",
    "sentiment_data.info()"
   ]
  },
  {
   "cell_type": "markdown",
   "id": "4285b48a-11df-4781-943e-57f84c0522d6",
   "metadata": {},
   "source": [
    "### 2.3 Over-sampling"
   ]
  },
  {
   "cell_type": "code",
   "execution_count": 6,
   "id": "5221585a-7255-4cfa-883b-8acd0e400bb4",
   "metadata": {},
   "outputs": [],
   "source": [
    "def visualization_labels(sentiment_data):\n",
    "    #Khảo sát\n",
    "    label_counts = sentiment_data['label'].value_counts().sort_index()\n",
    "    \n",
    "    print('BỘ DỮ LIỆU CÓ SỐ DÒNG VÀ CỘT LÀ:', sentiment_data.shape)\n",
    "    print('CÓ TẤT CẢ CÁC NHÃN VÀ SỐ LƯỢNG MỖI NHÃN LÀ:\\n ', label_counts)\n",
    "    \n",
    "    #Trực quan hóa\n",
    "    plt.figsize = (9,9)\n",
    "    \n",
    "    labels = ['Tiêu cực', 'Trung lập', 'Tích cực']\n",
    "    mycolors = ['#009299', '#7ed957', '#00b980']\n",
    "    plt.pie(label_counts, labels = labels, autopct = '%1.1f%%', startangle = 90, colors = mycolors)\n",
    "    plt.title('Tỉ lệ số nhãn trong đánh giá')"
   ]
  },
  {
   "cell_type": "code",
   "execution_count": 8,
   "id": "bf3ff3f2-b49f-46c1-b267-3a3e40385767",
   "metadata": {},
   "outputs": [
    {
     "name": "stdout",
     "output_type": "stream",
     "text": [
      "BỘ DỮ LIỆU CÓ SỐ DÒNG VÀ CỘT LÀ: (16174, 3)\n",
      "CÓ TẤT CẢ CÁC NHÃN VÀ SỐ LƯỢNG MỖI NHÃN LÀ:\n",
      "  label\n",
      "0    7439\n",
      "1     698\n",
      "2    8037\n",
      "Name: count, dtype: int64\n"
     ]
    },
    {
     "data": {
      "image/png": "[encoded data removed]",
      "text/plain": [
       "<Figure size 640x480 with 1 Axes>"
      ]
     },
     "metadata": {},
     "output_type": "display_data"
    }
   ],
   "source": [
    "visualization_labels(sentiment_data)"
   ]
  },
  {
   "cell_type": "code",
   "execution_count": 7,
   "id": "5298f989-3f29-492e-8b77-6f0f397ce6c7",
   "metadata": {},
   "outputs": [],
   "source": [
    "from sklearn.utils import resample\n",
    "\n",
    "train_comments = sentiment_data['comment'].values\n",
    "# print(train_comments)\n",
    "\n",
    "train_labels = sentiment_data['label'].values\n",
    "# print(train_labels)\n",
    "\n",
    "# Tìm chỉ số các câu trung lập(label=1)\n",
    "neutral_indices = np.where(train_labels == 1)[0]\n",
    "\n",
    "oversample_size = len(train_labels[train_labels ==0]) - len(neutral_indices)\n",
    "\n",
    "oversampled_neutral_indices = resample(neutral_indices,\n",
    "                                       replace = True,\n",
    "                                       n_samples = oversample_size,\n",
    "                                       random_state = 42)\n",
    "oversampled_neutral_comments = train_comments[oversampled_neutral_indices]\n",
    "\n",
    "train_comments_oversampled = np.concatenate([train_comments,oversampled_neutral_comments], axis = 0)\n",
    "train_labels_oversampled = np.concatenate([train_labels, np.array([1]*oversample_size)], axis = 0)"
   ]
  },
  {
   "cell_type": "code",
   "execution_count": 8,
   "id": "8c4a8784-87e6-4457-a5e5-035ba569ae7e",
   "metadata": {},
   "outputs": [],
   "source": [
    "sentiment_data_oversampled = pd.DataFrame({\n",
    "    'comment' : train_comments_oversampled,\n",
    "    'label' : train_labels_oversampled\n",
    "})\n",
    "\n",
    "sentiment_data = sentiment_data_oversampled.sample(frac=1, random_state=42).reset_index(drop=True)"
   ]
  },
  {
   "cell_type": "code",
   "execution_count": 9,
   "id": "45688c1a-bbf5-46ce-96c1-0f70a493e29f",
   "metadata": {},
   "outputs": [
    {
     "name": "stdout",
     "output_type": "stream",
     "text": [
      "BỘ DỮ LIỆU CÓ SỐ DÒNG VÀ CỘT LÀ: (22914, 2)\n",
      "CÓ TẤT CẢ CÁC NHÃN VÀ SỐ LƯỢNG MỖI NHÃN LÀ:\n",
      "  label\n",
      "0    7438\n",
      "1    7438\n",
      "2    8038\n",
      "Name: count, dtype: int64\n"
     ]
    },
    {
     "data": {
      "image/png": "[encoded data removed]",
      "text/plain": [
       "<Figure size 640x480 with 1 Axes>"
      ]
     },
     "metadata": {},
     "output_type": "display_data"
    }
   ],
   "source": [
    "visualization_labels(sentiment_data)"
   ]
  },
  {
   "cell_type": "markdown",
   "id": "ac94441c-5501-4a5a-808e-39cf3856c25d",
   "metadata": {},
   "source": [
    "### 2.4 Data normaliztion"
   ]
  },
  {
   "cell_type": "code",
   "execution_count": 10,
   "id": "18671a86-3590-4ae2-aaea-93224cbe3506",
   "metadata": {},
   "outputs": [],
   "source": [
    "import regex as re\n",
    "import string\n",
    "from underthesea import word_tokenize, text_normalize\n",
    "\n",
    "#CHUẨN HÓA DỮ LIỆU\n",
    "#Sử dụng hàm nhận diện icon \n",
    "emoji_pattern = re.compile(\"[\"\n",
    "                u\"\\U0001F600-\\U0001F64F\" \n",
    "                u\"\\U0001F300-\\U0001F5FF\" \n",
    "                u\"\\U0001F680-\\U0001F6FF\" \n",
    "                u\"\\U0001F1E0-\\U0001F1FF\"\n",
    "                u\"\\U00002702-\\U000027B0\" \n",
    "                u\"\\U000024C2-\\U0001F251\"\n",
    "                u\"\\U0001f926-\\U0001f937\"\n",
    "                u'\\U00010000-\\U0010ffff'\n",
    "                u\"\\u200d\"\n",
    "                u\"\\u2640-\\u2642\"\n",
    "                u\"\\u2600-\\u2B55\"\n",
    "                u\"\\u23cf\"\n",
    "                u\"\\u23e9\"\n",
    "                u\"\\u231a\"\n",
    "                u\"\\u3030\"\n",
    "                u\"\\ufe0f\"\n",
    "    \"]+\", flags=re.UNICODE)\n",
    "\n",
    "def clean_text(text):\n",
    "    \n",
    "    text=text.lower()  #chuyển toàn bộ text về chữ thường \n",
    "    text=re.sub(emoji_pattern,\" \",text)    #loại bỏ icon\n",
    "    text = re.sub(r'([a-z]+?)\\1+',r'\\1', text)  #loại bỏ các ký chữ lặp trong từ(aaaaabbbb--> ab)\n",
    "\n",
    "\n",
    "    #Đảm bảo khoảng trắng trước và sau giữa các dấu câu --> se , ti\n",
    "    text = re.sub(r\"(\\w)\\s*([\" + string.punctuation + \"])\\s*(\\w)\", r\"\\1 \\2 \\3\", text)\n",
    "\n",
    "    #Xóa bớt các dấu câu lặp lại --> !!!!->!\n",
    "    text = re.sub(f\"([{string.punctuation}])([{string.punctuation}])+\", r\"\\1\", text)\n",
    "\n",
    "    #Loại bỏ các dấu câu hoặc khoảng trắng ở đâu và cuối câu\n",
    "    text=text.strip()\n",
    "    while text.endswith(tuple(string.punctuation+string.whitespace)):\n",
    "        text = text[:-1]\n",
    "    while text.startswith(tuple(string.punctuation+string.whitespace)):\n",
    "        text = text[1:]\n",
    "\n",
    "    #Loại bỏ tất cả các dấu câu\n",
    "    text = text.translate(str.maketrans('', '', string.punctuation))\n",
    "\n",
    "    #Loại bỏ các khoảng trắng dư thừa trong câu\n",
    "    text = re.sub(r\"\\s+\", \" \", text)\n",
    "\n",
    "    #Tách từ \n",
    "    text = text_normalize(text)\n",
    "    text = word_tokenize(text, format=\"text\")\n",
    "\n",
    "    return text"
   ]
  },
  {
   "cell_type": "code",
   "execution_count": null,
   "id": "d1781359-c198-4f1c-b271-58434d6d8d09",
   "metadata": {},
   "outputs": [],
   "source": [
    "print('Câu gốc: ', sentiment_data['comment'][6])\n",
    "print('Chuẩn hóa: ', clean_text(sentiment_data['comment'][6]))"
   ]
  },
  {
   "cell_type": "code",
   "execution_count": 11,
   "id": "7110ab84-1468-48b6-a0a6-86b089bda364",
   "metadata": {},
   "outputs": [
    {
     "data": {
      "text/html": [
       "<div>\n",
       "<style scoped>\n",
       "    .dataframe tbody tr th:only-of-type {\n",
       "        vertical-align: middle;\n",
       "    }\n",
       "\n",
       "    .dataframe tbody tr th {\n",
       "        vertical-align: top;\n",
       "    }\n",
       "\n",
       "    .dataframe thead th {\n",
       "        text-align: right;\n",
       "    }\n",
       "</style>\n",
       "<table border=\"1\" class=\"dataframe\">\n",
       "  <thead>\n",
       "    <tr style=\"text-align: right;\">\n",
       "      <th></th>\n",
       "      <th>comment</th>\n",
       "      <th>label</th>\n",
       "      <th>corpus</th>\n",
       "    </tr>\n",
       "  </thead>\n",
       "  <tbody>\n",
       "    <tr>\n",
       "      <th>0</th>\n",
       "      <td>thầy dạy dễ hiểu bài tập đa dạng .</td>\n",
       "      <td>2</td>\n",
       "      <td>thầy dạy dễ hiểu bài_tập đa_dạng</td>\n",
       "    </tr>\n",
       "    <tr>\n",
       "      <th>1</th>\n",
       "      <td>em thích nhất là phần dạy lý thuyết của thầy .</td>\n",
       "      <td>2</td>\n",
       "      <td>em thích nhất là phần dạy lý_thuyết của thầy</td>\n",
       "    </tr>\n",
       "    <tr>\n",
       "      <th>2</th>\n",
       "      <td>giống như việc cung cấp cho phép cộng và yêu c...</td>\n",
       "      <td>1</td>\n",
       "      <td>giống như việc cung_cấp cho_phép cộng và yêu_c...</td>\n",
       "    </tr>\n",
       "    <tr>\n",
       "      <th>3</th>\n",
       "      <td>tạm tạm .</td>\n",
       "      <td>1</td>\n",
       "      <td>tạm tạm</td>\n",
       "    </tr>\n",
       "    <tr>\n",
       "      <th>4</th>\n",
       "      <td>thầy tạo được sự hứng thú với môn học .</td>\n",
       "      <td>2</td>\n",
       "      <td>thầy tạo được sự hứng_thú với môn_học</td>\n",
       "    </tr>\n",
       "    <tr>\n",
       "      <th>5</th>\n",
       "      <td>thầy viết chữ rất đẹp !</td>\n",
       "      <td>2</td>\n",
       "      <td>thầy viết chữ rất đẹp</td>\n",
       "    </tr>\n",
       "    <tr>\n",
       "      <th>6</th>\n",
       "      <td>giảng viên cho bài tập để làm .</td>\n",
       "      <td>1</td>\n",
       "      <td>giảng_viên cho bài_tập để làm</td>\n",
       "    </tr>\n",
       "    <tr>\n",
       "      <th>7</th>\n",
       "      <td>bài tập và hướng dẫn giải bài tập trên lớp .</td>\n",
       "      <td>1</td>\n",
       "      <td>bài_tập và hướng_dẫn_giải bài_tập trên lớp</td>\n",
       "    </tr>\n",
       "    <tr>\n",
       "      <th>8</th>\n",
       "      <td>thực hiện nhóm nhiều .</td>\n",
       "      <td>1</td>\n",
       "      <td>thực_hiện nhóm nhiều</td>\n",
       "    </tr>\n",
       "    <tr>\n",
       "      <th>9</th>\n",
       "      <td>em có ý kiến là hãy thi môn này trên máy tính ...</td>\n",
       "      <td>0</td>\n",
       "      <td>em có ý_kiến là hãy thi_môn này trên máy_tính ...</td>\n",
       "    </tr>\n",
       "    <tr>\n",
       "      <th>10</th>\n",
       "      <td>cô nhiệt tình và tâm huyết trong việc dạy học .</td>\n",
       "      <td>2</td>\n",
       "      <td>cô nhiệt_tình và tâm_huyết trong việc dạy_học</td>\n",
       "    </tr>\n",
       "    <tr>\n",
       "      <th>11</th>\n",
       "      <td>sâu sắc việc làm bài của sinh viên .</td>\n",
       "      <td>2</td>\n",
       "      <td>sâu_sắc việc_làm bài của sinh_viên</td>\n",
       "    </tr>\n",
       "    <tr>\n",
       "      <th>12</th>\n",
       "      <td>cô rất nhiệt tình và dễ thương .</td>\n",
       "      <td>2</td>\n",
       "      <td>cô rất nhiệt_tình và dễ_thương</td>\n",
       "    </tr>\n",
       "    <tr>\n",
       "      <th>13</th>\n",
       "      <td>thầy nói tiếng anh có đôi chút khó hiểu .</td>\n",
       "      <td>0</td>\n",
       "      <td>thầy nói tiếng anh có đôi_chút khó hiểu</td>\n",
       "    </tr>\n",
       "    <tr>\n",
       "      <th>14</th>\n",
       "      <td>chưa học kiểm thử , bắt làm test thì sao mà làm ?</td>\n",
       "      <td>0</td>\n",
       "      <td>chưa học kiểm_thử bắt làm test thì sao mà làm</td>\n",
       "    </tr>\n",
       "    <tr>\n",
       "      <th>15</th>\n",
       "      <td>cảm ơn thầy !</td>\n",
       "      <td>1</td>\n",
       "      <td>cảm_ơn thầy</td>\n",
       "    </tr>\n",
       "    <tr>\n",
       "      <th>16</th>\n",
       "      <td>không nên quá chú trọng vào việc dạy học chạy ...</td>\n",
       "      <td>0</td>\n",
       "      <td>không nên quá chú_trọng vào việc dạy_học chạy ...</td>\n",
       "    </tr>\n",
       "    <tr>\n",
       "      <th>17</th>\n",
       "      <td>giải bài tập giúp hiểu hơn về bài học .</td>\n",
       "      <td>1</td>\n",
       "      <td>giải bài_tập giúp hiểu hơn về bài_học</td>\n",
       "    </tr>\n",
       "    <tr>\n",
       "      <th>18</th>\n",
       "      <td>làm bài tập nhóm hiệu quả .</td>\n",
       "      <td>2</td>\n",
       "      <td>làm bài_tập nhóm hiệu_quả</td>\n",
       "    </tr>\n",
       "    <tr>\n",
       "      <th>19</th>\n",
       "      <td>không có ý kiến gì ạ .</td>\n",
       "      <td>1</td>\n",
       "      <td>không có ý_kiến gì ạ</td>\n",
       "    </tr>\n",
       "  </tbody>\n",
       "</table>\n",
       "</div>"
      ],
      "text/plain": [
       "                                              comment  label  \\\n",
       "0                  thầy dạy dễ hiểu bài tập đa dạng .      2   \n",
       "1      em thích nhất là phần dạy lý thuyết của thầy .      2   \n",
       "2   giống như việc cung cấp cho phép cộng và yêu c...      1   \n",
       "3                                           tạm tạm .      1   \n",
       "4             thầy tạo được sự hứng thú với môn học .      2   \n",
       "5                             thầy viết chữ rất đẹp !      2   \n",
       "6                     giảng viên cho bài tập để làm .      1   \n",
       "7        bài tập và hướng dẫn giải bài tập trên lớp .      1   \n",
       "8                              thực hiện nhóm nhiều .      1   \n",
       "9   em có ý kiến là hãy thi môn này trên máy tính ...      0   \n",
       "10    cô nhiệt tình và tâm huyết trong việc dạy học .      2   \n",
       "11               sâu sắc việc làm bài của sinh viên .      2   \n",
       "12                   cô rất nhiệt tình và dễ thương .      2   \n",
       "13          thầy nói tiếng anh có đôi chút khó hiểu .      0   \n",
       "14  chưa học kiểm thử , bắt làm test thì sao mà làm ?      0   \n",
       "15                                      cảm ơn thầy !      1   \n",
       "16  không nên quá chú trọng vào việc dạy học chạy ...      0   \n",
       "17            giải bài tập giúp hiểu hơn về bài học .      1   \n",
       "18                        làm bài tập nhóm hiệu quả .      2   \n",
       "19                             không có ý kiến gì ạ .      1   \n",
       "\n",
       "                                               corpus  \n",
       "0                    thầy dạy dễ hiểu bài_tập đa_dạng  \n",
       "1        em thích nhất là phần dạy lý_thuyết của thầy  \n",
       "2   giống như việc cung_cấp cho_phép cộng và yêu_c...  \n",
       "3                                             tạm tạm  \n",
       "4               thầy tạo được sự hứng_thú với môn_học  \n",
       "5                               thầy viết chữ rất đẹp  \n",
       "6                       giảng_viên cho bài_tập để làm  \n",
       "7          bài_tập và hướng_dẫn_giải bài_tập trên lớp  \n",
       "8                                thực_hiện nhóm nhiều  \n",
       "9   em có ý_kiến là hãy thi_môn này trên máy_tính ...  \n",
       "10      cô nhiệt_tình và tâm_huyết trong việc dạy_học  \n",
       "11                 sâu_sắc việc_làm bài của sinh_viên  \n",
       "12                     cô rất nhiệt_tình và dễ_thương  \n",
       "13            thầy nói tiếng anh có đôi_chút khó hiểu  \n",
       "14      chưa học kiểm_thử bắt làm test thì sao mà làm  \n",
       "15                                        cảm_ơn thầy  \n",
       "16  không nên quá chú_trọng vào việc dạy_học chạy ...  \n",
       "17              giải bài_tập giúp hiểu hơn về bài_học  \n",
       "18                          làm bài_tập nhóm hiệu_quả  \n",
       "19                               không có ý_kiến gì ạ  "
      ]
     },
     "execution_count": 11,
     "metadata": {},
     "output_type": "execute_result"
    }
   ],
   "source": [
    "sentiment_data['corpus'] = sentiment_data['comment'].map(lambda text: clean_text(text))                                                     \n",
    "sentiment_data.head(20)"
   ]
  },
  {
   "cell_type": "markdown",
   "id": "dc5d4f88-8865-4636-b896-79b12a4768a1",
   "metadata": {},
   "source": [
    "### 2.5 Visualization"
   ]
  },
  {
   "cell_type": "code",
   "execution_count": 13,
   "id": "274525c4-fe3e-4949-8d79-2ae6d492ca8b",
   "metadata": {},
   "outputs": [
    {
     "data": {
      "image/png": "[encoded data removed]",
      "text/plain": [
       "<Figure size 1000x500 with 1 Axes>"
      ]
     },
     "metadata": {},
     "output_type": "display_data"
    }
   ],
   "source": [
    "#Xem chiều dài của comment tập trung chủ yếu bao nhiêu \n",
    "lengths = sentiment_data['comment'].apply(len)\n",
    "\n",
    "#Biểu đồ histogram\n",
    "plt.figure(figsize=(10,5))\n",
    "plt.hist(lengths, edgecolor='k', bins=30, alpha=0.7)#bin=30 chia khoảng giá trị thành 30 nhóm \n",
    "plt.title('Sự phân phối độ dài câu của khách hàng')\n",
    "plt.xlabel('Chiều dài câu')\n",
    "plt.ylabel('Số lượng')\n",
    "plt.grid(True, which='both', linestyle='--', linewidth=0.5)"
   ]
  },
  {
   "cell_type": "code",
   "execution_count": null,
   "id": "8cd17c22-8e06-445c-b844-eb1dbebef5e2",
   "metadata": {},
   "outputs": [],
   "source": [
    "import nltk\n",
    "import wordcloud\n",
    "\n",
    "#XEM TRẠNG THÁI BAN ĐẦU CHƯA DỰ ĐOÁN CỦA BỘ DỮ LIỆU \n",
    "\n",
    "#Lọc bỏ các khoảng trắng chỉ lấy chữ\n",
    "all_words= [token for token in sentiment_data['corpus'].tolist() if token and token!=' ']\n",
    " \n",
    "corpus=' '.join(all_words)   #Nối lại thành chuỗi\n",
    "all_words = nltk.FreqDist(all_words)  #Tính tần suất xuất hiện của từng từ trong danh sách \n",
    "\n",
    "print('Số tất cả từ: {}'.format(len(all_words)))\n",
    "print('Số từ xuất hiện nhiều nhất top 15: {}'.format(all_words.most_common(15)))\n",
    "\n",
    "\n",
    "plt.figure(figsize=(12,8))\n",
    "word_cloud = wordcloud.WordCloud(max_words=100,background_color =\"black\",\n",
    "                               width=2000,height=1000,mode=\"RGB\").generate(corpus)\n",
    "\n",
    "plt.axis(\"off\")  #tắt hiển thị các trục \n",
    "plt.imshow(word_cloud)\n"
   ]
  },
  {
   "cell_type": "markdown",
   "id": "a55c5956-6be6-42af-be1a-4095c17e3918",
   "metadata": {
    "jp-MarkdownHeadingCollapsed": true
   },
   "source": [
    "## 3. Machine Learning Model"
   ]
  },
  {
   "cell_type": "markdown",
   "id": "31ec1997",
   "metadata": {},
   "source": [
    "### 3.1. Data Preparation"
   ]
  },
  {
   "cell_type": "code",
   "execution_count": null,
   "id": "ace4d787",
   "metadata": {},
   "outputs": [],
   "source": [
    "from sklearn.model_selection import train_test_split \n",
    "\n",
    "# Tách cột 'corpus' chứa văn bản đã chuẩn hóa làm input (X)\n",
    "X = sentiment_data['corpus']\n",
    "\n",
    "# Tách cột 'label' làm nhãn đầu ra (y), và đảm bảo kiểu dữ liệu là int\n",
    "y = sentiment_data['label'].astype(int)  \n",
    "\n",
    "# Chia dữ liệu thành tập train và test (tỷ lệ test = 20%), \n",
    "# random_state=42 để đảm bảo tái lập (reproducibility),\n",
    "# stratify=y để giữ tỉ lệ phân bố nhãn trong cả train và test\n",
    "X_train, X_test, y_train, y_test = train_test_split(\n",
    "    X, y, test_size=0.2, random_state=42, stratify=y\n",
    ")\n",
    "\n",
    "print(f\"Train: {len(X_train)}, Test: {len(X_test)}\")"
   ]
  },
  {
   "cell_type": "code",
   "execution_count": null,
   "id": "e6304a39",
   "metadata": {},
   "outputs": [],
   "source": [
    "from sklearn.feature_extraction.text import TfidfVectorizer  \n",
    "\n",
    "# Khởi tạo vectorizer với:\n",
    "# - max_features=5000: chỉ giữ lại 5000 từ đặc trưng nhất (giảm chiều dữ liệu)\n",
    "# - ngram_range=(1,2): dùng cả unigram (1 từ) và bigram (2 từ liên tiếp)\n",
    "tfidf = TfidfVectorizer(max_features=5000, ngram_range=(1,2))\n",
    "\n",
    "# Học và biến đổi dữ liệu train thành ma trận TF-IDF\n",
    "X_train_tfidf = tfidf.fit_transform(X_train)\n",
    "\n",
    "# Biến đổi dữ liệu test (dựa trên từ vựng đã học ở train)\n",
    "X_test_tfidf = tfidf.transform(X_test)"
   ]
  },
  {
   "cell_type": "markdown",
   "id": "50069a11",
   "metadata": {},
   "source": [
    "### 3.2. Naive Bayes Model"
   ]
  },
  {
   "cell_type": "code",
   "execution_count": null,
   "id": "72a965b7",
   "metadata": {},
   "outputs": [],
   "source": [
    "import time\n",
    "from sklearn.naive_bayes import MultinomialNB\n",
    "from sklearn.metrics import classification_report, accuracy_score\n",
    "\n",
    "# Bắt đầu đếm thời gian huấn luyện\n",
    "start_MNB = time.time()\n",
    "\n",
    "# Khởi tạo và huấn luyện mô hình\n",
    "classifier_MNB = MultinomialNB()\n",
    "classifier_MNB.fit(X_train_tfidf, y_train)\n",
    "\n",
    "# Kết thúc đếm thời gian huấn luyện\n",
    "end_MNB = time.time()\n",
    "time_MNB = end_MNB - start_MNB\n",
    "\n",
    "print(\"Thời gian huấn luyện Multinomial Naive Bayes: \", str(time_MNB), \" giây\")"
   ]
  },
  {
   "cell_type": "code",
   "execution_count": null,
   "id": "35c83caf",
   "metadata": {},
   "outputs": [],
   "source": [
    "# Dự đoán nhãn cho tập test\n",
    "y_pred_MNB = classifier_MNB.predict(X_test_tfidf)\n",
    "\n",
    "# Đánh giá kết quả\n",
    "print('Độ chính xác Multinomial Naive Bayes:', accuracy_score(y_test, y_pred_MNB))\n",
    "print('\\nReport:\\n', classification_report(y_test, y_pred_MNB, target_names=['Tiêu cực', 'Trung lập', 'Tích cực']))"
   ]
  },
  {
   "cell_type": "code",
   "execution_count": null,
   "id": "4d82e199",
   "metadata": {},
   "outputs": [],
   "source": [
    "from sklearn.metrics import confusion_matrix\n",
    "import seaborn as sns\n",
    "import matplotlib.pyplot as plt\n",
    "cm_MNB = confusion_matrix(y_test, y_pred_MNB)\n",
    "\n",
    "plt.figure(figsize=(8, 6))\n",
    "sns.heatmap(cm_MNB, annot=True, fmt='d', cmap='Blues', xticklabels=['Tiêu cực', 'Trung lập', 'Tích cực'], yticklabels=['Tiêu cực', 'Trung lập', 'Tích cực'])\n",
    "plt.xlabel('Dự đoán')\n",
    "plt.ylabel('Thực tế')\n",
    "plt.title('Naive Bayes Model')\n",
    "plt.show()"
   ]
  },
  {
   "cell_type": "code",
   "execution_count": null,
   "id": "36ebc1ce",
   "metadata": {},
   "outputs": [],
   "source": [
    "import joblib\n",
    "\n",
    "joblib.dump(classifier_MNB, 'multinomial_naive_bayes_model.pkl')\n",
    "print(\"Model saved successfully.\")"
   ]
  },
  {
   "cell_type": "markdown",
   "id": "b04421b7",
   "metadata": {},
   "source": [
    "### 3.3. Logistic Regression Model"
   ]
  },
  {
   "cell_type": "code",
   "execution_count": null,
   "id": "8e6af509",
   "metadata": {},
   "outputs": [],
   "source": [
    "from sklearn.linear_model import LogisticRegression\n",
    "# Kiểm tra thời gian huấn luyện\n",
    "start_LR = time.time()\n",
    "\n",
    "classifier_LR = LogisticRegression(max_iter=1000, random_state=0)\n",
    "classifier_LR.fit(X_train_tfidf, y_train)\n",
    "\n",
    "end_LR = time.time()\n",
    "time_LR = end_LR - start_LR\n",
    "\n",
    "print(\"Thời gian huấn luyện: \", str(time_LR), \" giây\")"
   ]
  },
  {
   "cell_type": "code",
   "execution_count": null,
   "id": "326a56b4",
   "metadata": {},
   "outputs": [],
   "source": [
    "y_pred_LR = classifier_LR.predict(X_test_tfidf)\n",
    "\n",
    "print('Độ chính xác Logistic Regression:', accuracy_score(y_test, y_pred_LR))\n",
    "print('\\nReport:\\n', classification_report(y_test, y_pred_LR, target_names=['Tiêu cực', 'Trung lập', 'Tích cực']))"
   ]
  },
  {
   "cell_type": "code",
   "execution_count": null,
   "id": "743dfdfe",
   "metadata": {},
   "outputs": [],
   "source": [
    "cm_LR = confusion_matrix(y_test, y_pred_LR)\n",
    "\n",
    "plt.figure(figsize=(8, 6))\n",
    "sns.heatmap(cm_LR, annot=True, fmt='d', cmap='Blues', xticklabels=['Tiêu cực', 'Trung lập', 'Tích cực'], yticklabels=['Tiêu cực', 'Trung lập', 'Tích cực'])\n",
    "plt.xlabel('Dự đoán')\n",
    "plt.ylabel('Thực tế')\n",
    "plt.title('Logistic Regression')\n",
    "plt.show()"
   ]
  },
  {
   "cell_type": "code",
   "execution_count": null,
   "id": "ac34a8eb",
   "metadata": {},
   "outputs": [],
   "source": [
    "joblib.dump(classifier_LR, 'logistic_regression_model.pkl')\n",
    "print(\"Model saved successfully.\")"
   ]
  },
  {
   "cell_type": "markdown",
   "id": "9e1435de-b65a-4c9f-9a8e-f25384010e05",
   "metadata": {},
   "source": [
    "## 4. Deep Learning Model"
   ]
  },
  {
   "cell_type": "markdown",
   "id": "42de6721-d5c4-4d3b-b98b-894144b58139",
   "metadata": {},
   "source": [
    "### 4.1 Data preparation"
   ]
  },
  {
   "cell_type": "code",
   "execution_count": 12,
   "id": "f0c23a86-a133-40ce-8536-1904dcec9de3",
   "metadata": {},
   "outputs": [
    {
     "name": "stdout",
     "output_type": "stream",
     "text": [
      "Input data shape: (22914, 45)\n",
      "Data vocab size: 2817\n",
      "Training sample: 16497\n",
      "Validation sample: 4583\n",
      "Test sample: 1834\n"
     ]
    }
   ],
   "source": [
    "from tensorflow.keras.utils import to_categorical\n",
    "from tensorflow.keras.preprocessing.text import Tokenizer\n",
    "from tensorflow.keras.preprocessing.sequence import pad_sequences\n",
    "\n",
    "import pickle\n",
    "\n",
    "from sklearn.model_selection import train_test_split\n",
    "\n",
    "input_pre = sentiment_data['corpus'].tolist()\n",
    "label_with_accent = sentiment_data['label'].tolist()\n",
    "\n",
    "label_tf = to_categorical(label_with_accent, num_classes = 3)\n",
    "input_pre = [str(item) for item in input_pre] #Biến đổi nhãn (label) thành ma trận on-hot encoding.\n",
    "\n",
    "#Phân tách dữ liệu văn bản đầu vào\n",
    "tokenizer_data = Tokenizer(oov_token = '<00V>') # gán các từ chưa máy chưa học thì sẽ gán bằng mã '<00V>' để tránh lỗi khi xử lý \n",
    "tokenizer_data.fit_on_texts(input_pre)  # tách từ + đếm số lần xuất hiện tạo thành một từ điển \n",
    "\n",
    "#Chuyển đổi văn bản thành vector số\n",
    "tokenizer_data_text = tokenizer_data.texts_to_sequences(input_pre)   #Biến đổi các văn bản trong input_pre (chuỗi) thành danh sách các chuỗi số,tương ứng từ được thay thế bằng chỉ số tương ứng trong từ điển\n",
    "vec_data = pad_sequences(tokenizer_data_text, padding='post', maxlen = 45)  # Làm cho tất cả các chuỗi trong tokenized_data_text có cùng độ dài (ở đây là 45), nếu <45 thì thêm 0, ngược thì thì cắt bớt\n",
    "\n",
    "#Lưu tokenizer(word_index) vào file nhằm mục đích tái sử dụng\n",
    "pickle.dump(tokenizer_data, open('tokenizer_data.pkl','wb'))\n",
    "\n",
    "# Chuyển vec_data thành numpy\n",
    "vec_data = np.array(vec_data)  \n",
    "print(\"Input data shape:\", vec_data.shape)\n",
    "\n",
    "# Lấy size từ vựng\n",
    "data_vocab_size = len(tokenizer_data.word_index) + 1\n",
    "print(\"Data vocab size:\", data_vocab_size)\n",
    "\n",
    "# Chia dữ liệu training, validation, and test sets\n",
    "X_train, X_val, y_train, y_val = train_test_split(vec_data, label_tf, test_size = 0.2, random_state = 42)\n",
    "'''\n",
    "    vec_data: là dữ liệu đầu vào sau khi đã sử lý với chiều dài là 45\n",
    "    label_tf: là nhãn tương ứng với dữ liệu đầu vào đã được mã hóa ở dạng one-host encoding\n",
    "    test_size=0.2 : lấy 20% cho tập validation và còn lại 80% cho tập training\n",
    "    random_state=42: đảm bảo dữ liệu được lấy ngẫu nhiên \n",
    "'''\n",
    "X_train, X_test, y_train, y_test = train_test_split(X_train, y_train, test_size = 0.1, random_state = 42)\n",
    "'''\n",
    "    X_train: là dữ liệu đầu vào\n",
    "    y_train: là nhãn tương ứng với dữ liệu đầu vào\n",
    "    test_size=0.1 : lấy 10% cho tập test từ tập training\n",
    "    random_state=42: đảm bảo dữ liệu được lấy ngẫu nhiên \n",
    "'''\n",
    "#training: chiếm 78%\n",
    "# validation: chiếm 20%\n",
    "# test: 8%\n",
    "\n",
    "\n",
    "print(\"Training sample:\", len(X_train))\n",
    "print(\"Validation sample:\", len(X_val))\n",
    "print(\"Test sample:\", len(X_test))"
   ]
  },
  {
   "cell_type": "code",
   "execution_count": 13,
   "id": "50e09a5b-35ac-45ff-a9c3-0872d774b20c",
   "metadata": {},
   "outputs": [],
   "source": [
    "from sklearn.metrics import accuracy_score, precision_recall_fscore_support\n",
    "\n",
    "def calculate_results(y_true, y_pred):\n",
    "    model_accuracy = accuracy_score(y_true, y_pred) * 100\n",
    "    model_precision, model_recall, model_f1, _ = precision_recall_fscore_support(\n",
    "        y_true, y_pred, average=\"weighted\"\n",
    "    )\n",
    "    return {\n",
    "        \"accuracy\": model_accuracy,\n",
    "        \"precision\": model_precision,\n",
    "        \"recall\": model_recall,\n",
    "        \"f1\": model_f1\n",
    "    }"
   ]
  },
  {
   "cell_type": "markdown",
   "id": "077a9489-8f2f-47c4-8923-bd60205a21cf",
   "metadata": {
    "jp-MarkdownHeadingCollapsed": true
   },
   "source": [
    "### 4.2 Model CNN +Bi-LSTM"
   ]
  },
  {
   "cell_type": "code",
   "execution_count": null,
   "id": "26360cff-2609-4dd8-b9a5-91b753093f12",
   "metadata": {},
   "outputs": [],
   "source": [
    "def model_cnn_bilstm():\n",
    "    dropout_threshold = 0.4 # dùng để xác định tỉ lệ dropout trong mô hình, có nghĩa là trong mỗi lần huấn luyện thì sẽ có 40% cái connect sẽ bị ngắt kết nối ngẫu nhiên \n",
    "    input_dim = data_vocab_size # số từ vựng \n",
    "    output_dim = 32 # mỗi từ trong từ điển sẽ được ánh xạ với một vector là 32 chiều \n",
    "    input_length = 45\n",
    "    initializer = tf.keras.initializers.GlorotNormal() # để tạo 1 trọng số ban đầu không phải là theo một cách ngẫu nhiên mà có tính toán cụ thể\n",
    "\n",
    "    # Tầng đầu vào \n",
    "    input_layer = Input(shape=(input_length,)) # định ngĩa lớp đầu tiên của mô hình với một chiều dài cố định \n",
    "\n",
    "    # Tầng embedding --> nhằm mục đích chuyển đổi các chỉ số nguyên(các từ) thành vector nhúng\n",
    "    feature = Embedding(input_dim=input_dim, #số tất cả các từ vựng \n",
    "                        output_dim=output_dim, # mỗi từ được biểu diễn 1 vector nhúng 32 chiều \n",
    "                        input_length=input_length,#độ dài chuỗi đầu vào \n",
    "                        embeddings_initializer=initializer)(input_layer)#khởi tạo các giá trị trong bảng nhúng \n",
    "\n",
    "    # CNN feature \n",
    "    cnn_feature = Conv1D(filters=32, kernel_size=3, padding='same', activation='relu')(feature)\n",
    "    '''\n",
    "    --> Conv1D: tạo 1 lớp tích chập quét dữ liệu 1 chiều dọc \n",
    "    filters=32: có 32 bộ lọc \n",
    "    kernel_size=3: kích thước bộ lọc =3--> mỗi lần quét sẽ là 3 từ\n",
    "    padding='same': đầu ra sẽ cùng kích thước đầu vào \n",
    "    activation='relu': tính toán dữ liệu đầu vào dựa theo hàm relu (>0 thì nhận ,<0 thì =0)\n",
    "    '''\n",
    "    cnn_feature = MaxPooling1D()(cnn_feature)#--> là giảm kích thước dữ liệu \n",
    "    cnn_feature = Dropout(dropout_threshold)(cnn_feature)#-->giảm thiểu overfitting\n",
    "    cnn_feature = Conv1D(filters=32, kernel_size=3, padding='same', activation='relu')(cnn_feature)\n",
    "    cnn_feature = MaxPooling1D()(cnn_feature)\n",
    "    cnn_feature = LayerNormalization()(cnn_feature) #chuẩn hóa các đặc trưng trong một lớp, giúp giảm thiểu các vấn đề về độ lệch chuẩn của các giá trị và giúp quá trình huấn luyện trở nên ổn định hơn.\n",
    "    cnn_feature = Dropout(dropout_threshold)(cnn_feature)\n",
    "\n",
    "    # BiLSTM feature \n",
    "    bi_lstm_feature = Bidirectional(LSTM(units=32, dropout=dropout_threshold, return_sequences=True,kernel_initializer=initializer), merge_mode='concat')(feature)\n",
    "    ''' merge_mode='concat': nghĩa là nếu lstm có 32 chiều thì mô hình hình sẽ tạo ra 64 chiều,32 chiều trước, 32 chiều sau '''\n",
    "    bi_lstm_feature = MaxPooling1D()(bi_lstm_feature)\n",
    "\n",
    "    # BiGRU feature \n",
    "    bi_lstm_feature = Bidirectional(GRU(units=32, dropout=dropout_threshold, return_sequences=True,kernel_initializer=initializer), merge_mode='concat')(bi_lstm_feature)\n",
    "    bi_lstm_feature = MaxPooling1D()(bi_lstm_feature)\n",
    "    bi_lstm_feature = LayerNormalization()(bi_lstm_feature)\n",
    "\n",
    "    # Combine features\n",
    "    combine_feature = Concatenate()([cnn_feature, bi_lstm_feature]) # kết nối 2 feature lại thành 1 feature mới \n",
    "    combine_feature = GlobalMaxPooling1D()(combine_feature)\n",
    "    combine_feature = LayerNormalization()(combine_feature)\n",
    "\n",
    "    # Tầng \n",
    "    classifier = Dense(90, activation='relu')(combine_feature)\n",
    "    classifier = Dropout(0.2)(classifier)\n",
    "    \n",
    "    classifier = Dense(70, activation='relu')(classifier)\n",
    "    classifier = Dropout(0.2)(classifier)\n",
    "    \n",
    "    classifier = Dense(50, activation='relu')(classifier)\n",
    "    classifier = Dropout(0.2)(classifier)\n",
    "    \n",
    "    classifier = Dense(30, activation='relu')(classifier)\n",
    "    classifier = Dropout(0.2)(classifier)\n",
    "    classifier = Dense(3, activation='softmax')(classifier)\n",
    "\n",
    "    # Định nghĩa mô hình\n",
    "    model = tf.keras.Model(inputs=input_layer, outputs=classifier)\n",
    "    return model"
   ]
  },
  {
   "cell_type": "code",
   "execution_count": null,
   "id": "e477a1d5-1bac-4e01-8f8c-97d83f81c0e5",
   "metadata": {},
   "outputs": [],
   "source": [
    "model = model_cnn_bilstm()\n",
    "adam = Adam(learning_rate=0.001)  # khởi tạo bộ tốc độ học với tốc độ 0.001\n",
    "model.compile(optimizer = adam,loss = 'categorical_crossentropy',metrics = ['accuracy'])\n",
    "model.summary()"
   ]
  },
  {
   "cell_type": "code",
   "execution_count": null,
   "id": "b0a6a534-f21f-4309-800c-bf8d06bfceac",
   "metadata": {
    "scrolled": true
   },
   "outputs": [],
   "source": [
    "callback_model = tf.keras.callbacks.ModelCheckpoint('model_cnn_bilstm.keras', monitor='val_loss')\n",
    "'''lưu trạng thái tốt nhất của mô hình trong quá trình huấn luyện \n",
    "monitor='val_loss': dựa trên giá trị val_loss nhỏ nhất\n",
    "--> khi val_loss giảm hơn so với epochs trước đó thì sẽ được lưu vào mô hình \n",
    "'''\n",
    "history = model.fit(x=X_train, y=y_train, validation_data=(X_val, y_val), epochs=10, batch_size=128, callbacks=[callback_model])"
   ]
  },
  {
   "cell_type": "code",
   "execution_count": null,
   "id": "7b6a769b-1505-4bb4-958c-ccb631b6c268",
   "metadata": {},
   "outputs": [],
   "source": [
    "from tensorflow.keras.models import load_model\n",
    "\n",
    "model.load_weights(\"model_cnn_bilstm.keras\")\n",
    "\n",
    "y_true_cnn_bilstm = y_test.argmax(axis=1)\n",
    "\n",
    "y_pred_probs_cnn_bilstm = model.predict(X_test)\n",
    "y_pred_cnn_bilstm = y_pred_probs_cnn_BiLstm.argmax(axis=1) \n",
    "\n",
    "results = calculate_results(y_true_cnn_bilstm, y_pred_cnn_bilstm)\n",
    "print(results)"
   ]
  },
  {
   "cell_type": "markdown",
   "id": "3a5c101b-3cac-4a8f-aa3c-4e4055a7c9ec",
   "metadata": {},
   "source": [
    "### 4.3 Model PhoBERT"
   ]
  },
  {
   "cell_type": "code",
   "execution_count": 14,
   "id": "21def7d1-3407-4688-8b67-b2eb0e180494",
   "metadata": {},
   "outputs": [],
   "source": [
    "from transformers import AutoTokenizer\n",
    "\n",
    "# Load tokenizer và model từ HuggingFace\n",
    "tokenizer = AutoTokenizer.from_pretrained(\"vinai/phobert-base\")\n",
    "\n",
    "X_train_cleaned = [str(x) for x in list(X_train)]  # đảm bảo kiểu str\n",
    "encoded_train = tokenizer(X_train_cleaned,\n",
    "    padding = 'max_length',\n",
    "    truncation = True,\n",
    "    max_length = 45,\n",
    "    return_tensors = 'pt',\n",
    "    return_attention_mask = True\n",
    ")\n",
    "train_ids = encoded_train['input_ids']            # Tensor: các token ID\n",
    "train_masks = encoded_train['attention_mask']     # Tensor: attention mask\n",
    "\n",
    "\n",
    "X_val_cleaned = [str(x) for x in list(X_val)]\n",
    "encoded_val = tokenizer(\n",
    "    X_val_cleaned, \n",
    "    padding = 'max_length', \n",
    "    truncation = True, \n",
    "    max_length = 45, \n",
    "    return_tensors = 'pt', \n",
    "    return_attention_mask = True\n",
    ")\n",
    "val_ids = encoded_val['input_ids']           \n",
    "val_masks = encoded_val['attention_mask']   \n",
    "\n",
    "\n",
    "X_test_cleaned = [str(x) for x in list(X_test)]  \n",
    "encoded_test = tokenizer(\n",
    "    X_test_cleaned, \n",
    "    padding = 'max_length', \n",
    "    truncation = True, \n",
    "    max_length = 45, \n",
    "    return_tensors = 'pt', \n",
    "    return_attention_mask = True)\n",
    "test_ids = encoded_test['input_ids']            \n",
    "test_masks = encoded_test['attention_mask']    "
   ]
  },
  {
   "cell_type": "code",
   "execution_count": 15,
   "id": "dbf2d7c7-f8b0-4092-8191-e09f689faa6b",
   "metadata": {},
   "outputs": [],
   "source": [
    "from torch.utils.data import TensorDataset, DataLoader, RandomSampler, SequentialSampler\n",
    "import torch\n",
    "\n",
    "\n",
    "#Chuyển đổi các danh sách thành tensor\n",
    "train_inputs = torch.tensor(train_ids)\n",
    "train_labels = torch.tensor(y_train)\n",
    "train_masks = torch.tensor(train_masks)\n",
    "\n",
    "val_inputs = torch.tensor(val_ids)\n",
    "val_labels = torch.tensor(y_val)\n",
    "val_masks = torch.tensor(val_masks)\n",
    "\n",
    "test_inputs = torch.tensor(test_ids)\n",
    "test_labels = torch.tensor(y_test)\n",
    "test_masks = torch.tensor(test_masks)\n",
    "\n",
    "#Tạo dataloader cho tập huấn luyện\n",
    "train_data = TensorDataset(train_inputs, train_masks, train_labels)\n",
    "train_sampler = SequentialSampler(train_data)\n",
    "train_dataloader = DataLoader(train_data,sampler = train_sampler, batch_size = 32)\n",
    "\n",
    "#Tạo dataloader cho tập đánh giá\n",
    "val_data = TensorDataset(val_inputs, val_masks, val_labels)\n",
    "val_sampler = SequentialSampler(val_data)\n",
    "val_dataloader = DataLoader(val_data, sampler = val_sampler, batch_size = 32)\n",
    "\n",
    "#Tạo dataloader cho tập kiểm tra\n",
    "test_data = TensorDataset(test_inputs, test_masks, test_labels)\n",
    "test_sampler = SequentialSampler(test_data)\n",
    "test_dataloader = DataLoader(test_data,sampler = test_sampler, batch_size = 32)"
   ]
  },
  {
   "cell_type": "code",
   "execution_count": null,
   "id": "b22e2178-0623-4774-b36e-e8c10bbacde9",
   "metadata": {},
   "outputs": [
    {
     "name": "stderr",
     "output_type": "stream",
     "text": [
      "Some weights of RobertaForSequenceClassification were not initialized from the model checkpoint at vinai/phobert-base and are newly initialized: ['classifier.dense.bias', 'classifier.dense.weight', 'classifier.out_proj.bias', 'classifier.out_proj.weight']\n",
      "You should probably TRAIN this model on a down-stream task to be able to use it for predictions and inference.\n"
     ]
    },
    {
     "name": "stdout",
     "output_type": "stream",
     "text": [
      "\n",
      "======== Epoch 1 / 10 ========\n",
      "Training...\n"
     ]
    },
    {
     "name": "stderr",
     "output_type": "stream",
     "text": [
      "100%|██████████████████████████████████████████████████████████████████████████████| 516/516 [1:06:34<00:00,  7.74s/it]\n"
     ]
    },
    {
     "name": "stdout",
     "output_type": "stream",
     "text": [
      "Train Accuracy: 0.7082\n",
      "Train F1 score: 0.7017\n",
      "Average train loss: 0.6705\n",
      "Running Validation...\n"
     ]
    }
   ],
   "source": [
    "from transformers import AutoModelForSequenceClassification, get_linear_schedule_with_warmup\n",
    "from torch.optim import AdamW\n",
    "from tqdm import tqdm\n",
    "import torch\n",
    "import numpy as np\n",
    "\n",
    "epochs = 10\n",
    "device = torch.device('cuda' if torch.cuda.is_available() else 'cpu')\n",
    "\n",
    "model_phobert = AutoModelForSequenceClassification.from_pretrained(\"vinai/phobert-base\", num_labels=3)\n",
    "model_phobert.to(device)\n",
    "\n",
    "# Group tham số có decay và không decay\n",
    "param_optimizer = list(model_phobert.named_parameters())\n",
    "no_decay = ['bias', 'LayerNorm.bias', 'LayerNorm.weight']\n",
    "\n",
    "optimizer_grouped_parameters = [\n",
    "    {\n",
    "        'params': [p for n, p in param_optimizer if not any(nd in n for nd in no_decay)],\n",
    "        'weight_decay': 0.01\n",
    "    },\n",
    "    {\n",
    "        'params': [p for n, p in param_optimizer if any(nd in n for nd in no_decay)],\n",
    "        'weight_decay': 0.0\n",
    "    }\n",
    "]\n",
    "\n",
    "optimizer = AdamW(optimizer_grouped_parameters, lr=3e-5)\n",
    "scheduler = get_linear_schedule_with_warmup(\n",
    "    optimizer,\n",
    "    num_warmup_steps=0,\n",
    "    num_training_steps=len(train_dataloader) * epochs\n",
    ")\n",
    "\n",
    "best_eval = 0\n",
    "\n",
    "# Hàm đánh giá accuracy và f1\n",
    "from sklearn.metrics import accuracy_score, f1_score, precision_score, recall_score\n",
    "\n",
    "def flat_accuracy(preds, labels):\n",
    "    preds = np.argmax(preds, axis=1)\n",
    "    acc = accuracy_score(labels, preds)\n",
    "    f1 = f1_score(labels, preds, average='weighted')\n",
    "    prec = precision_score(labels, preds, average='weighted')\n",
    "    rec = recall_score(labels, preds, average='weighted')\n",
    "    return acc, f1, prec, rec\n",
    "\n",
    "# Vòng lặp huấn luyện\n",
    "for epoch_i in range(epochs):\n",
    "    print(f\"\\n======== Epoch {epoch_i + 1} / {epochs} ========\")\n",
    "    print(\"Training...\")\n",
    "\n",
    "    total_loss = 0\n",
    "    model_phobert.train()\n",
    "    train_accuracy = 0\n",
    "    train_f1 = 0\n",
    "    nb_train_steps = 0\n",
    "\n",
    "    for step, batch in tqdm(enumerate(train_dataloader), total=len(train_dataloader)):\n",
    "        b_input_ids = batch[0].to(device)\n",
    "        b_input_mask = batch[1].to(device)\n",
    "        b_labels = batch[2].to(device)\n",
    "\n",
    "        # Đảm bảo labels là LongTensor 1D\n",
    "        if b_labels.ndim > 1:\n",
    "            b_labels = torch.argmax(b_labels, dim=1)\n",
    "        b_labels = b_labels.long()\n",
    "\n",
    "        model_phobert.zero_grad()\n",
    "\n",
    "        outputs = model_phobert(\n",
    "            b_input_ids,\n",
    "            attention_mask=b_input_mask,\n",
    "            labels=b_labels\n",
    "        )\n",
    "\n",
    "        loss = outputs.loss\n",
    "        logits = outputs.logits.detach().cpu().numpy()\n",
    "        label_ids = b_labels.detach().cpu().numpy()\n",
    "\n",
    "        acc, f1, prec, rec = flat_accuracy(logits, label_ids)\n",
    "        train_accuracy += acc\n",
    "        train_f1 += f1\n",
    "        nb_train_steps += 1\n",
    "        total_loss += loss.item()\n",
    "\n",
    "        loss.backward()\n",
    "        torch.nn.utils.clip_grad_norm_(model_phobert.parameters(), 1.0)\n",
    "        optimizer.step()\n",
    "        scheduler.step()\n",
    "\n",
    "    avg_train_loss = total_loss / len(train_dataloader)\n",
    "    print(f\"Train Accuracy: {train_accuracy / nb_train_steps:.4f}\")\n",
    "    print(f\"Train F1 score: {train_f1 / nb_train_steps:.4f}\")\n",
    "    print(f\"Average train loss: {avg_train_loss:.4f}\")\n",
    "\n",
    "    print(\"Running Validation...\")\n",
    "    model_phobert.eval()\n",
    "    eval_accuracy = 0\n",
    "    eval_f1 = 0\n",
    "    nb_eval_steps = 0\n",
    "\n",
    "    for batch in val_dataloader:\n",
    "        batch = tuple(t.to(device) for t in batch)\n",
    "        b_input_ids, b_input_mask, b_labels = batch\n",
    "\n",
    "        if b_labels.ndim > 1:\n",
    "            b_labels = torch.argmax(b_labels, dim=1)\n",
    "        b_labels = b_labels.long()\n",
    "\n",
    "        with torch.no_grad():\n",
    "            outputs = model_phobert(\n",
    "                b_input_ids,\n",
    "                attention_mask=b_input_mask\n",
    "            )\n",
    "            logits = outputs.logits.detach().cpu().numpy()\n",
    "            label_ids = b_labels.detach().cpu().numpy()\n",
    "\n",
    "            acc, f1, prec, rec = flat_accuracy(logits, label_ids)\n",
    "            eval_accuracy += acc\n",
    "            eval_f1 += f1\n",
    "            nb_eval_steps += 1\n",
    "\n",
    "    print(f\"Val Accuracy: {eval_accuracy / nb_eval_steps:.4f}\")\n",
    "    print(f\"Val F1 score: {eval_f1 / nb_eval_steps:.4f}\")\n",
    "    print(f\"Val Precision: {prec:.4f}\")\n",
    "    print(f\"Val Recall: {rec:.4f}\")\n",
    "\n",
    "    if (eval_accuracy / nb_eval_steps) > best_eval:\n",
    "        best_eval = (eval_accuracy / nb_eval_steps)\n",
    "        model_phobert.save_pretrained('bert_pretrain_v2/')\n",
    "        print(\"✅ Saved Best Model!\")\n",
    "\n",
    "print(\"🎉 Training complete!\")\n"
   ]
  },
  {
   "cell_type": "code",
   "execution_count": 24,
   "id": "6d414ded-a1a6-4300-9ec9-15fa541fcabe",
   "metadata": {},
   "outputs": [],
   "source": [
    "config = RobertaConfig.from_pretrained(\n",
    "    \"./bert_pretrain\", num_labels=3, local_files_only=True\n",
    ")\n",
    "\n",
    "model = RobertaForSequenceClassification.from_pretrained(\n",
    "    \"./bert_pretrain\", config=config, local_files_only=True\n",
    ")\n"
   ]
  },
  {
   "cell_type": "code",
   "execution_count": 25,
   "id": "5e8f86c6-6ee1-482e-bac9-cd4d4c8a9b2e",
   "metadata": {},
   "outputs": [
    {
     "data": {
      "application/vnd.jupyter.widget-view+json": {
       "model_id": "ad038f3a2034462b936fc9a23bf344c3",
       "version_major": 2,
       "version_minor": 0
      },
      "text/plain": [
       "tokenizer_config.json:   0%|          | 0.00/285 [00:00<?, ?B/s]"
      ]
     },
     "metadata": {},
     "output_type": "display_data"
    },
    {
     "data": {
      "application/vnd.jupyter.widget-view+json": {
       "model_id": "57ce5aeca4034de9856afc63a71f21a1",
       "version_major": 2,
       "version_minor": 0
      },
      "text/plain": [
       "vocab.txt: 0.00B [00:00, ?B/s]"
      ]
     },
     "metadata": {},
     "output_type": "display_data"
    },
    {
     "data": {
      "application/vnd.jupyter.widget-view+json": {
       "model_id": "0af3c1e9037146868d9711e2dbcdf3f2",
       "version_major": 2,
       "version_minor": 0
      },
      "text/plain": [
       "bpe.codes: 0.00B [00:00, ?B/s]"
      ]
     },
     "metadata": {},
     "output_type": "display_data"
    },
    {
     "data": {
      "application/vnd.jupyter.widget-view+json": {
       "model_id": "5faa94c70a04493c8b7fc29c4be6b5d5",
       "version_major": 2,
       "version_minor": 0
      },
      "text/plain": [
       "added_tokens.json:   0%|          | 0.00/17.0 [00:00<?, ?B/s]"
      ]
     },
     "metadata": {},
     "output_type": "display_data"
    },
    {
     "data": {
      "application/vnd.jupyter.widget-view+json": {
       "model_id": "82f0dff1ed1743e49c442c904764c9d5",
       "version_major": 2,
       "version_minor": 0
      },
      "text/plain": [
       "special_tokens_map.json:   0%|          | 0.00/150 [00:00<?, ?B/s]"
      ]
     },
     "metadata": {},
     "output_type": "display_data"
    }
   ],
   "source": [
    "# Import AutoTokenizer từ thư viện transformers\n",
    "from transformers import AutoTokenizer\n",
    "\n",
    "# Tải tokenizer cho mô hình PhoBERT\n",
    "tkn = AutoTokenizer.from_pretrained(\"wonrax/phobert-base-vietnamese-sentiment\", use_fast=False)"
   ]
  },
  {
   "cell_type": "code",
   "execution_count": 29,
   "id": "04337212-2737-4915-8442-3213e8afdb7a",
   "metadata": {},
   "outputs": [],
   "source": [
    "def BERT_Predict(text):\n",
    "    \"\"\"\n",
    "    Dự đoán nhãn cảm xúc cho một câu (text).\n",
    "    ['NEG', 'NEU', 'POS'] tương ứng với ['0', '1', '2']\n",
    "    \"\"\"\n",
    "    text = str(text)  # Ép kiểu để tránh lỗi\n",
    "    inputs = tkn(text, return_tensors=\"pt\", truncation=True, padding=True)\n",
    "\n",
    "    with torch.no_grad():\n",
    "        outputs = model_phobert(**inputs)\n",
    "        logits = outputs.logits\n",
    "        predicted_class = torch.argmax(logits, dim=1).item()\n",
    "\n",
    "    return predicted_class\n"
   ]
  },
  {
   "cell_type": "code",
   "execution_count": 30,
   "id": "080286d0-1492-41a0-ad06-31228db80d6e",
   "metadata": {},
   "outputs": [],
   "source": [
    "# Tạo danh sách để lưu kết quả dự đoán cho tập kiểm tra\n",
    "test_pred = []\n",
    "for cmt in X_test:\n",
    "  test_pred.append(BERT_Predict(cmt))"
   ]
  },
  {
   "cell_type": "code",
   "execution_count": 45,
   "id": "bdb05536-6123-4fb0-a4df-e04648494a5b",
   "metadata": {},
   "outputs": [
    {
     "data": {
      "text/plain": [
       "{'accuracy': 90.1854714064915,\n",
       " 'precision': 0.914713772497933,\n",
       " 'recall': 0.901854714064915,\n",
       " 'f1': 0.9076610557237382}"
      ]
     },
     "execution_count": 45,
     "metadata": {},
     "output_type": "execute_result"
    }
   ],
   "source": [
    "# y_test = np.argmax(y_test, axis=1)\n",
    "\n",
    "calculate_results(test_pred,y_test)"
   ]
  },
  {
   "cell_type": "code",
   "execution_count": 38,
   "id": "146302bf-5cfe-4124-ba99-093849cd8f14",
   "metadata": {},
   "outputs": [
    {
     "data": {
      "text/plain": [
       "array([0, 0, 2, ..., 2, 2, 0])"
      ]
     },
     "execution_count": 38,
     "metadata": {},
     "output_type": "execute_result"
    }
   ],
   "source": [
    "\n",
    "y_test\n",
    "y_test = np.argmax(y_test, axis=1)"
   ]
  },
  {
   "cell_type": "markdown",
   "id": "95d935c1-f8bb-4b5b-98e9-ae89c4267d3f",
   "metadata": {
    "jp-MarkdownHeadingCollapsed": true
   },
   "source": [
    "## 5. Compare Model"
   ]
  },
  {
   "cell_type": "markdown",
   "id": "73c87b5e-caa6-4bac-8e4b-46aa1d89fabe",
   "metadata": {},
   "source": [
    "## 6. Test"
   ]
  },
  {
   "cell_type": "code",
   "execution_count": null,
   "id": "4e695650-fb62-49b7-9b83-785c65f86fc1",
   "metadata": {},
   "outputs": [],
   "source": [
    "# Hàm tiền xử lý đầu vào\n",
    "def preprocess_raw_input(raw_input, tokenizer):\n",
    "\n",
    "    input_text_pre=clean_text(raw_input)\n",
    "    print(\"Text:\", input_text_pre)\n",
    "\n",
    "    # Chuyển đổi văn bản thành vector số \n",
    "    tokenized_data_text = tokenizer.texts_to_sequences([input_text_pre])\n",
    "    vec_data = pad_sequences(tokenized_data_text, padding='post', maxlen=45)  # padding cho dữ liệu\n",
    "    return vec_data\n",
    "\n",
    "# Hàm dự đoán với mô hình\n",
    "def inference_model(input_feature, model):\n",
    "    output = model(input_feature).numpy()[0]\n",
    "    result = output.argmax()  # Lấy chỉ số lớp có giá trị dự đoán cao nhất\n",
    "    conf = float(output.max())  # Độ tin cậy của dự đoán (giá trị dự đoán cao nhất)\n",
    "    label_dict = {'Tiêu cực': 0, 'Trung lập': 1, 'Tích cực': 2}\n",
    "    labels = list(label_dict.keys())  # Lấy các nhãn\n",
    "    return labels[int(result)], conf  # Trả về nhãn và độ tin cậy\n",
    "\n",
    "# Hàm dự đoán cuối cùng\n",
    "def prediction(raw_input, tokenizer, model):\n",
    "    input_model = preprocess_raw_input(raw_input, tokenizer)  # Tiền xử lý đầu vào\n",
    "    result, conf = inference_model(input_model, model)  # Dự đoán với mô hình\n",
    "    return result, conf  # Trả về kết quả và độ tin cậy\n"
   ]
  },
  {
   "cell_type": "code",
   "execution_count": null,
   "id": "a70bb65c-e822-4e91-809e-d4113490d312",
   "metadata": {},
   "outputs": [],
   "source": [
    "my_model=generate_model()\n",
    "my_model=load_model(\"model_cnn_bilstm.keras\")\n",
    "\n",
    "with open (r\"tokenizer_data.pkl\",\"rb\") as input_file:\n",
    "    my_tokenizer=pickle.load(input_file)\n",
    "print(prediction(\"Thầy giảng hay lắm!!\",my_tokenizer,my_model))"
   ]
  },
  {
   "cell_type": "code",
   "execution_count": null,
   "id": "cb6c8ced-1ccf-4567-9108-628254ada63d",
   "metadata": {},
   "outputs": [
    {
     "name": "stdout",
     "output_type": "stream",
     "text": [
      "Text: tôi buồn\n",
      "('Tiêu cực', 0.9421778321266174)\n",
      "\n"
     ]
    },
    {
     "name": "stdout",
     "output_type": "stream",
     "text": [
      "Nhập văn bản (hoặc gõ 'end' để kết thúc):  end\n"
     ]
    }
   ],
   "source": [
    "while True:\n",
    "    text = input(\"Nhập văn bản (hoặc gõ 'end' để kết thúc): \")\n",
    "    if text.lower() == \"end\":\n",
    "        break\n",
    "    else:\n",
    "        # Dự đoán và in kết quả\n",
    "        prediction_result = prediction(text, my_tokenizer, my_model)\n",
    "        print(str(prediction_result) + \"\\n\")  # Đảm bảo kết quả là chuỗi trước khi nối"
   ]
  },
  {
   "cell_type": "code",
   "execution_count": null,
   "id": "3881a089-7660-4b08-85f8-9a5d6b669972",
   "metadata": {},
   "outputs": [],
   "source": [
    "from tensorflow.keras.utils import plot_model\n",
    "dot_img_file = 'model_visualize.png'\n",
    "tf.keras.utils.plot_model(model, to_file=dot_img_file, show_shapes=True)"
   ]
  },
  {
   "cell_type": "code",
   "execution_count": null,
   "id": "dd4d0f73-08f0-41e9-a0b5-a3491e08b499",
   "metadata": {},
   "outputs": [],
   "source": []
  }
 ],
 "metadata": {
  "kernelspec": {
   "display_name": "Python (my_sic_env)",
   "language": "python",
   "name": "my_sic_env"
  },
  "language_info": {
   "codemirror_mode": {
    "name": "ipython",
    "version": 3
   },
   "file_extension": ".py",
   "mimetype": "text/x-python",
   "name": "python",
   "nbconvert_exporter": "python",
   "pygments_lexer": "ipython3",
   "version": "3.10.18"
  }
 },
 "nbformat": 4,
 "nbformat_minor": 5
}
